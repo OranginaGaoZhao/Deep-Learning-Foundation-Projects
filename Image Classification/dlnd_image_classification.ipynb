{
 "cells": [
  {
   "cell_type": "markdown",
   "metadata": {
    "collapsed": true
   },
   "source": [
    "# Image Classification\n",
    "In this project, you'll classify images from the [CIFAR-10 dataset](https://www.cs.toronto.edu/~kriz/cifar.html).  The dataset consists of airplanes, dogs, cats, and other objects. You'll preprocess the images, then train a convolutional neural network on all the samples. The images need to be normalized and the labels need to be one-hot encoded.  You'll get to apply what you learned and build a convolutional, max pooling, dropout, and fully connected layers.  At the end, you'll get to see your neural network's predictions on the sample images.\n",
    "## Get the Data\n",
    "Run the following cell to download the [CIFAR-10 dataset for python](https://www.cs.toronto.edu/~kriz/cifar-10-python.tar.gz)."
   ]
  },
  {
   "cell_type": "code",
   "execution_count": 1,
   "metadata": {},
   "outputs": [
    {
     "name": "stdout",
     "output_type": "stream",
     "text": [
      "All files found!\n"
     ]
    }
   ],
   "source": [
    "\"\"\"\n",
    "DON'T MODIFY ANYTHING IN THIS CELL THAT IS BELOW THIS LINE\n",
    "\"\"\"\n",
    "from urllib.request import urlretrieve\n",
    "from os.path import isfile, isdir\n",
    "from tqdm import tqdm\n",
    "import problem_unittests as tests\n",
    "import tarfile\n",
    "\n",
    "cifar10_dataset_folder_path = 'cifar-10-batches-py'\n",
    "\n",
    "# Use Floyd's cifar-10 dataset if present\n",
    "floyd_cifar10_location = '/cifar/cifar-10-python.tar.gz'\n",
    "if isfile(floyd_cifar10_location):\n",
    "    tar_gz_path = floyd_cifar10_location\n",
    "else:\n",
    "    tar_gz_path = 'cifar-10-python.tar.gz'\n",
    "\n",
    "class DLProgress(tqdm):\n",
    "    last_block = 0\n",
    "\n",
    "    def hook(self, block_num=1, block_size=1, total_size=None):\n",
    "        self.total = total_size\n",
    "        self.update((block_num - self.last_block) * block_size)\n",
    "        self.last_block = block_num\n",
    "\n",
    "if not isfile(tar_gz_path):\n",
    "    with DLProgress(unit='B', unit_scale=True, miniters=1, desc='CIFAR-10 Dataset') as pbar:\n",
    "        urlretrieve(\n",
    "            'https://www.cs.toronto.edu/~kriz/cifar-10-python.tar.gz',\n",
    "            tar_gz_path,\n",
    "            pbar.hook)\n",
    "\n",
    "if not isdir(cifar10_dataset_folder_path):\n",
    "    with tarfile.open(tar_gz_path) as tar:\n",
    "        tar.extractall()\n",
    "        tar.close()\n",
    "\n",
    "\n",
    "tests.test_folder_path(cifar10_dataset_folder_path)"
   ]
  },
  {
   "cell_type": "markdown",
   "metadata": {},
   "source": [
    "## Explore the Data\n",
    "The dataset is broken into batches to prevent your machine from running out of memory.  The CIFAR-10 dataset consists of 5 batches, named `data_batch_1`, `data_batch_2`, etc.. Each batch contains the labels and images that are one of the following:\n",
    "* airplane\n",
    "* automobile\n",
    "* bird\n",
    "* cat\n",
    "* deer\n",
    "* dog\n",
    "* frog\n",
    "* horse\n",
    "* ship\n",
    "* truck\n",
    "\n",
    "Understanding a dataset is part of making predictions on the data.  Play around with the code cell below by changing the `batch_id` and `sample_id`. The `batch_id` is the id for a batch (1-5). The `sample_id` is the id for a image and label pair in the batch.\n",
    "\n",
    "Ask yourself \"What are all possible labels?\", \"What is the range of values for the image data?\", \"Are the labels in order or random?\".  Answers to questions like these will help you preprocess the data and end up with better predictions."
   ]
  },
  {
   "cell_type": "code",
   "execution_count": 2,
   "metadata": {},
   "outputs": [
    {
     "name": "stdout",
     "output_type": "stream",
     "text": [
      "\n",
      "Stats of batch 1:\n",
      "Samples: 10000\n",
      "Label Counts: {0: 1005, 1: 974, 2: 1032, 3: 1016, 4: 999, 5: 937, 6: 1030, 7: 1001, 8: 1025, 9: 981}\n",
      "First 20 Labels: [6, 9, 9, 4, 1, 1, 2, 7, 8, 3, 4, 7, 7, 2, 9, 9, 9, 3, 2, 6]\n",
      "\n",
      "Example of Image 5:\n",
      "Image - Min Value: 0 Max Value: 252\n",
      "Image - Shape: (32, 32, 3)\n",
      "Label - Label Id: 1 Name: automobile\n"
     ]
    },
    {
     "data": {
      "image/png": "[encoded data removed]",
      "text/plain": [
       "<matplotlib.figure.Figure at 0x113cacf98>"
      ]
     },
     "metadata": {
      "image/png": {
       "height": 250,
       "width": 253
      }
     },
     "output_type": "display_data"
    }
   ],
   "source": [
    "%matplotlib inline\n",
    "%config InlineBackend.figure_format = 'retina'\n",
    "\n",
    "import helper\n",
    "import numpy as np\n",
    "\n",
    "# Explore the dataset\n",
    "batch_id = 1\n",
    "sample_id = 5\n",
    "helper.display_stats(cifar10_dataset_folder_path, batch_id, sample_id)"
   ]
  },
  {
   "cell_type": "markdown",
   "metadata": {},
   "source": [
    "## Implement Preprocess Functions\n",
    "### Normalize\n",
    "In the cell below, implement the `normalize` function to take in image data, `x`, and return it as a normalized Numpy array. The values should be in the range of 0 to 1, inclusive.  The return object should be the same shape as `x`."
   ]
  },
  {
   "cell_type": "code",
   "execution_count": 3,
   "metadata": {},
   "outputs": [
    {
     "name": "stdout",
     "output_type": "stream",
     "text": [
      "Tests Passed\n"
     ]
    }
   ],
   "source": [
    "def normalize(x):\n",
    "    \"\"\"\n",
    "    Normalize a list of sample image data in the range of 0 to 1\n",
    "    : x: List of image data.  The image shape is (32, 32, 3)\n",
    "    : return: Numpy array of normalize data\n",
    "    \"\"\"\n",
    "    # TODO: Implement Function\n",
    "    a = 0.0\n",
    "    b = 1.0\n",
    "    image_min = 0\n",
    "    image_max = 255\n",
    "    return a + ((x-image_min)*(b-a)/(image_max-image_min))\n",
    "\n",
    "\n",
    "\"\"\"\n",
    "DON'T MODIFY ANYTHING IN THIS CELL THAT IS BELOW THIS LINE\n",
    "\"\"\"\n",
    "tests.test_normalize(normalize)"
   ]
  },
  {
   "cell_type": "markdown",
   "metadata": {},
   "source": [
    "### One-hot encode\n",
    "Just like the previous code cell, you'll be implementing a function for preprocessing.  This time, you'll implement the `one_hot_encode` function. The input, `x`, are a list of labels.  Implement the function to return the list of labels as One-Hot encoded Numpy array.  The possible values for labels are 0 to 9. The one-hot encoding function should return the same encoding for each value between each call to `one_hot_encode`.  Make sure to save the map of encodings outside the function.\n",
    "\n",
    "Hint: Don't reinvent the wheel."
   ]
  },
  {
   "cell_type": "code",
   "execution_count": 4,
   "metadata": {},
   "outputs": [
    {
     "name": "stdout",
     "output_type": "stream",
     "text": [
      "Tests Passed\n"
     ]
    }
   ],
   "source": [
    "from sklearn.preprocessing import LabelBinarizer\n",
    "def one_hot_encode(x):\n",
    "    \"\"\"\n",
    "    One hot encode a list of sample labels. Return a one-hot encoded vector for each label.\n",
    "    : x: List of sample Labels\n",
    "    : return: Numpy array of one-hot encoded labels\n",
    "    \"\"\"\n",
    "    # TODO: Implement Function\n",
    "    return np.eye(10)[x]\n",
    "\n",
    "\n",
    "\"\"\"\n",
    "DON'T MODIFY ANYTHING IN THIS CELL THAT IS BELOW THIS LINE\n",
    "\"\"\"\n",
    "tests.test_one_hot_encode(one_hot_encode)"
   ]
  },
  {
   "cell_type": "markdown",
   "metadata": {},
   "source": [
    "### Randomize Data\n",
    "As you saw from exploring the data above, the order of the samples are randomized.  It doesn't hurt to randomize it again, but you don't need to for this dataset."
   ]
  },
  {
   "cell_type": "markdown",
   "metadata": {},
   "source": [
    "## Preprocess all the data and save it\n",
    "Running the code cell below will preprocess all the CIFAR-10 data and save it to file. The code below also uses 10% of the training data for validation."
   ]
  },
  {
   "cell_type": "code",
   "execution_count": 5,
   "metadata": {
    "collapsed": true
   },
   "outputs": [],
   "source": [
    "\"\"\"\n",
    "DON'T MODIFY ANYTHING IN THIS CELL\n",
    "\"\"\"\n",
    "# Preprocess Training, Validation, and Testing Data\n",
    "helper.preprocess_and_save_data(cifar10_dataset_folder_path, normalize, one_hot_encode)"
   ]
  },
  {
   "cell_type": "markdown",
   "metadata": {},
   "source": [
    "# Check Point\n",
    "This is your first checkpoint.  If you ever decide to come back to this notebook or have to restart the notebook, you can start from here.  The preprocessed data has been saved to disk."
   ]
  },
  {
   "cell_type": "code",
   "execution_count": 6,
   "metadata": {
    "collapsed": true
   },
   "outputs": [],
   "source": [
    "\"\"\"\n",
    "DON'T MODIFY ANYTHING IN THIS CELL\n",
    "\"\"\"\n",
    "import pickle\n",
    "import problem_unittests as tests\n",
    "import helper\n",
    "\n",
    "# Load the Preprocessed Validation data\n",
    "valid_features, valid_labels = pickle.load(open('preprocess_validation.p', mode='rb'))"
   ]
  },
  {
   "cell_type": "markdown",
   "metadata": {},
   "source": [
    "## Build the network\n",
    "For the neural network, you'll build each layer into a function.  Most of the code you've seen has been outside of functions. To test your code more thoroughly, we require that you put each layer in a function.  This allows us to give you better feedback and test for simple mistakes using our unittests before you submit your project.\n",
    "\n",
    ">**Note:** If you're finding it hard to dedicate enough time for this course each week, we've provided a small shortcut to this part of the project. In the next couple of problems, you'll have the option to use classes from the [TensorFlow Layers](https://www.tensorflow.org/api_docs/python/tf/layers) or [TensorFlow Layers (contrib)](https://www.tensorflow.org/api_guides/python/contrib.layers) packages to build each layer, except the layers you build in the \"Convolutional and Max Pooling Layer\" section.  TF Layers is similar to Keras's and TFLearn's abstraction to layers, so it's easy to pickup.\n",
    "\n",
    ">However, if you would like to get the most out of this course, try to solve all the problems _without_ using anything from the TF Layers packages. You **can** still use classes from other packages that happen to have the same name as ones you find in TF Layers! For example, instead of using the TF Layers version of the `conv2d` class, [tf.layers.conv2d](https://www.tensorflow.org/api_docs/python/tf/layers/conv2d), you would want to use the TF Neural Network version of `conv2d`, [tf.nn.conv2d](https://www.tensorflow.org/api_docs/python/tf/nn/conv2d). \n",
    "\n",
    "Let's begin!\n",
    "\n",
    "### Input\n",
    "The neural network needs to read the image data, one-hot encoded labels, and dropout keep probability. Implement the following functions\n",
    "* Implement `neural_net_image_input`\n",
    " * Return a [TF Placeholder](https://www.tensorflow.org/api_docs/python/tf/placeholder)\n",
    " * Set the shape using `image_shape` with batch size set to `None`.\n",
    " * Name the TensorFlow placeholder \"x\" using the TensorFlow `name` parameter in the [TF Placeholder](https://www.tensorflow.org/api_docs/python/tf/placeholder).\n",
    "* Implement `neural_net_label_input`\n",
    " * Return a [TF Placeholder](https://www.tensorflow.org/api_docs/python/tf/placeholder)\n",
    " * Set the shape using `n_classes` with batch size set to `None`.\n",
    " * Name the TensorFlow placeholder \"y\" using the TensorFlow `name` parameter in the [TF Placeholder](https://www.tensorflow.org/api_docs/python/tf/placeholder).\n",
    "* Implement `neural_net_keep_prob_input`\n",
    " * Return a [TF Placeholder](https://www.tensorflow.org/api_docs/python/tf/placeholder) for dropout keep probability.\n",
    " * Name the TensorFlow placeholder \"keep_prob\" using the TensorFlow `name` parameter in the [TF Placeholder](https://www.tensorflow.org/api_docs/python/tf/placeholder).\n",
    "\n",
    "These names will be used at the end of the project to load your saved model.\n",
    "\n",
    "Note: `None` for shapes in TensorFlow allow for a dynamic size."
   ]
  },
  {
   "cell_type": "code",
   "execution_count": 8,
   "metadata": {},
   "outputs": [
    {
     "name": "stdout",
     "output_type": "stream",
     "text": [
      "Image Input Tests Passed.\n",
      "Label Input Tests Passed.\n",
      "Keep Prob Tests Passed.\n"
     ]
    }
   ],
   "source": [
    "import tensorflow as tf\n",
    "\n",
    "def neural_net_image_input(image_shape):\n",
    "    \"\"\"\n",
    "    Return a Tensor for a batch of image input\n",
    "    : image_shape: Shape of the images\n",
    "    : return: Tensor for image input.\n",
    "    \"\"\"\n",
    "    # TODO: Implement Function\n",
    "    # Python feature - unpacking\n",
    "    features = tf.placeholder(tf.float32, [None, *image_shape], name='x')\n",
    "    return features\n",
    "\n",
    "\n",
    "def neural_net_label_input(n_classes):\n",
    "    \"\"\"\n",
    "    Return a Tensor for a batch of label input\n",
    "    : n_classes: Number of classes\n",
    "    : return: Tensor for label input.\n",
    "    \"\"\"\n",
    "    # TODO: Implement Function\n",
    "    labels = tf.placeholder(tf.float32, [None, n_classes], name='y')\n",
    "    return labels\n",
    "\n",
    "\n",
    "def neural_net_keep_prob_input():\n",
    "    \"\"\"\n",
    "    Return a Tensor for keep probability\n",
    "    : return: Tensor for keep probability.\n",
    "    \"\"\"\n",
    "    # TODO: Implement Function\n",
    "    keep_prob = tf.placeholder(tf.float32, name='keep_prob')\n",
    "    return keep_prob\n",
    "\n",
    "\n",
    "\"\"\"\n",
    "DON'T MODIFY ANYTHING IN THIS CELL THAT IS BELOW THIS LINE\n",
    "\"\"\"\n",
    "tf.reset_default_graph()\n",
    "tests.test_nn_image_inputs(neural_net_image_input)\n",
    "tests.test_nn_label_inputs(neural_net_label_input)\n",
    "tests.test_nn_keep_prob_inputs(neural_net_keep_prob_input)"
   ]
  },
  {
   "cell_type": "markdown",
   "metadata": {},
   "source": [
    "### Convolution and Max Pooling Layer\n",
    "Convolution layers have a lot of success with images. For this code cell, you should implement the function `conv2d_maxpool` to apply convolution then max pooling:\n",
    "* Create the weight and bias using `conv_ksize`, `conv_num_outputs` and the shape of `x_tensor`.\n",
    "* Apply a convolution to `x_tensor` using weight and `conv_strides`.\n",
    " * We recommend you use same padding, but you're welcome to use any padding.\n",
    "* Add bias\n",
    "* Add a nonlinear activation to the convolution.\n",
    "* Apply Max Pooling using `pool_ksize` and `pool_strides`.\n",
    " * We recommend you use same padding, but you're welcome to use any padding.\n",
    "\n",
    "**Note:** You **can't** use [TensorFlow Layers](https://www.tensorflow.org/api_docs/python/tf/layers) or [TensorFlow Layers (contrib)](https://www.tensorflow.org/api_guides/python/contrib.layers) for **this** layer, but you can still use TensorFlow's [Neural Network](https://www.tensorflow.org/api_docs/python/tf/nn) package. You may still use the shortcut option for all the **other** layers."
   ]
  },
  {
   "cell_type": "code",
   "execution_count": 9,
   "metadata": {},
   "outputs": [
    {
     "name": "stdout",
     "output_type": "stream",
     "text": [
      "Tests Passed\n"
     ]
    }
   ],
   "source": [
    "def conv2d_maxpool(x_tensor, conv_num_outputs, conv_ksize, conv_strides, pool_ksize, pool_strides):\n",
    "    \"\"\"\n",
    "    Apply convolution then max pooling to x_tensor\n",
    "    :param x_tensor: TensorFlow Tensor\n",
    "    :param conv_num_outputs: Number of outputs for the convolutional layer\n",
    "    :param conv_ksize: kernal size 2-D Tuple for the convolutional layer\n",
    "    :param conv_strides: Stride 2-D Tuple for convolution\n",
    "    :param pool_ksize: kernal size 2-D Tuple for pool\n",
    "    :param pool_strides: Stride 2-D Tuple for pool\n",
    "    : return: A tensor that represents convolution and max pooling of x_tensor\n",
    "    \"\"\"\n",
    "    # TODO: Implement Function\n",
    "    weights = tf.Variable(tf.truncated_normal(\n",
    "        shape = [*conv_ksize, int(x_tensor.get_shape().dims[3]), conv_num_outputs], \n",
    "        mean = 0.0, \n",
    "        stddev=0.1, \n",
    "        dtype=tf.float32))\n",
    "    \n",
    "    bias = tf.Variable(tf.zeros([conv_num_outputs]))\n",
    "    \n",
    "    layer = tf.nn.conv2d(x_tensor,weights,strides=[1,*conv_strides,1],padding='SAME')\n",
    "    \n",
    "    layer = tf.nn.bias_add(layer,bias)\n",
    "    \n",
    "    layer = tf.nn.relu(layer)\n",
    "    \n",
    "    layer = tf.nn.max_pool(layer,ksize=[1,*pool_ksize,1],strides=[1,*pool_strides,1],padding='SAME')\n",
    "    \n",
    "    return layer\n",
    "\n",
    "\n",
    "\"\"\"\n",
    "DON'T MODIFY ANYTHING IN THIS CELL THAT IS BELOW THIS LINE\n",
    "\"\"\"\n",
    "tests.test_con_pool(conv2d_maxpool)"
   ]
  },
  {
   "cell_type": "markdown",
   "metadata": {},
   "source": [
    "### Flatten Layer\n",
    "Implement the `flatten` function to change the dimension of `x_tensor` from a 4-D tensor to a 2-D tensor.  The output should be the shape (*Batch Size*, *Flattened Image Size*). Shortcut option: you can use classes from the [TensorFlow Layers](https://www.tensorflow.org/api_docs/python/tf/layers) or [TensorFlow Layers (contrib)](https://www.tensorflow.org/api_guides/python/contrib.layers) packages for this layer. For more of a challenge, only use other TensorFlow packages."
   ]
  },
  {
   "cell_type": "code",
   "execution_count": 10,
   "metadata": {},
   "outputs": [
    {
     "name": "stdout",
     "output_type": "stream",
     "text": [
      "Tests Passed\n"
     ]
    }
   ],
   "source": [
    "def flatten(x_tensor):\n",
    "    \"\"\"\n",
    "    Flatten x_tensor to (Batch Size, Flattened Image Size)\n",
    "    : x_tensor: A tensor of size (Batch Size, ...), where ... are the image dimensions.\n",
    "    : return: A tensor of size (Batch Size, Flattened Image Size).\n",
    "    \"\"\"\n",
    "    # TODO: Implement Function\n",
    "    _,w,h,dim = np.shape(x_tensor)\n",
    "    image_size = int(w)*int(h)*int(dim)\n",
    "    flatten_tensor = tf.reshape(x_tensor,[-1,image_size])\n",
    "    return flatten_tensor\n",
    "\n",
    "\n",
    "\"\"\"\n",
    "DON'T MODIFY ANYTHING IN THIS CELL THAT IS BELOW THIS LINE\n",
    "\"\"\"\n",
    "tests.test_flatten(flatten)"
   ]
  },
  {
   "cell_type": "markdown",
   "metadata": {},
   "source": [
    "### Fully-Connected Layer\n",
    "Implement the `fully_conn` function to apply a fully connected layer to `x_tensor` with the shape (*Batch Size*, *num_outputs*). Shortcut option: you can use classes from the [TensorFlow Layers](https://www.tensorflow.org/api_docs/python/tf/layers) or [TensorFlow Layers (contrib)](https://www.tensorflow.org/api_guides/python/contrib.layers) packages for this layer. For more of a challenge, only use other TensorFlow packages."
   ]
  },
  {
   "cell_type": "code",
   "execution_count": 11,
   "metadata": {},
   "outputs": [
    {
     "name": "stdout",
     "output_type": "stream",
     "text": [
      "Tests Passed\n"
     ]
    }
   ],
   "source": [
    "def fully_conn(x_tensor, num_outputs):\n",
    "    \"\"\"\n",
    "    Apply a fully connected layer to x_tensor using weight and bias\n",
    "    : x_tensor: A 2-D tensor where the first dimension is batch size.\n",
    "    : num_outputs: The number of output that the new tensor should be.\n",
    "    : return: A 2-D tensor where the second dimension is num_outputs.\n",
    "    \"\"\"\n",
    "    # TODO: Implement Function\n",
    "    shape = x_tensor.get_shape().as_list()\n",
    "    weights = tf.Variable(tf.truncated_normal([shape[-1],num_outputs],\n",
    "        mean = 0.0, \n",
    "        stddev=0.1, \n",
    "        dtype=tf.float32))\n",
    "    bias = tf.Variable(tf.zeros(num_outputs))\n",
    "    return tf.nn.relu(tf.add(tf.matmul(x_tensor,weights),bias))\n",
    "\n",
    "\n",
    "\"\"\"\n",
    "DON'T MODIFY ANYTHING IN THIS CELL THAT IS BELOW THIS LINE\n",
    "\"\"\"\n",
    "tests.test_fully_conn(fully_conn)"
   ]
  },
  {
   "cell_type": "markdown",
   "metadata": {},
   "source": [
    "### Output Layer\n",
    "Implement the `output` function to apply a fully connected layer to `x_tensor` with the shape (*Batch Size*, *num_outputs*). Shortcut option: you can use classes from the [TensorFlow Layers](https://www.tensorflow.org/api_docs/python/tf/layers) or [TensorFlow Layers (contrib)](https://www.tensorflow.org/api_guides/python/contrib.layers) packages for this layer. For more of a challenge, only use other TensorFlow packages.\n",
    "\n",
    "**Note:** Activation, softmax, or cross entropy should **not** be applied to this."
   ]
  },
  {
   "cell_type": "code",
   "execution_count": 12,
   "metadata": {},
   "outputs": [
    {
     "name": "stdout",
     "output_type": "stream",
     "text": [
      "Tests Passed\n"
     ]
    }
   ],
   "source": [
    "def output(x_tensor, num_outputs):\n",
    "    \"\"\"\n",
    "    Apply a output layer to x_tensor using weight and bias\n",
    "    : x_tensor: A 2-D tensor where the first dimension is batch size.\n",
    "    : num_outputs: The number of output that the new tensor should be.\n",
    "    : return: A 2-D tensor where the second dimension is num_outputs.\n",
    "    \"\"\"\n",
    "    # TODO: Implement Function\n",
    "    shape = x_tensor.get_shape().as_list()\n",
    "    weights = tf.Variable(tf.truncated_normal([shape[-1],num_outputs],\n",
    "        mean = 0.0, \n",
    "        stddev=0.1, \n",
    "        dtype=tf.float32))\n",
    "    bias = tf.Variable(tf.zeros(num_outputs))\n",
    "    return tf.add(tf.matmul(x_tensor,weights),bias)\n",
    "\n",
    "\n",
    "\"\"\"\n",
    "DON'T MODIFY ANYTHING IN THIS CELL THAT IS BELOW THIS LINE\n",
    "\"\"\"\n",
    "tests.test_output(output)"
   ]
  },
  {
   "cell_type": "markdown",
   "metadata": {},
   "source": [
    "### Create Convolutional Model\n",
    "Implement the function `conv_net` to create a convolutional neural network model. The function takes in a batch of images, `x`, and outputs logits.  Use the layers you created above to create this model:\n",
    "\n",
    "* Apply 1, 2, or 3 Convolution and Max Pool layers\n",
    "* Apply a Flatten Layer\n",
    "* Apply 1, 2, or 3 Fully Connected Layers\n",
    "* Apply an Output Layer\n",
    "* Return the output\n",
    "* Apply [TensorFlow's Dropout](https://www.tensorflow.org/api_docs/python/tf/nn/dropout) to one or more layers in the model using `keep_prob`. "
   ]
  },
  {
   "cell_type": "code",
   "execution_count": 13,
   "metadata": {},
   "outputs": [
    {
     "name": "stdout",
     "output_type": "stream",
     "text": [
      "Neural Network Built!\n"
     ]
    }
   ],
   "source": [
    "def conv_net(x, keep_prob):\n",
    "    \"\"\"\n",
    "    Create a convolutional neural network model\n",
    "    : x: Placeholder tensor that holds image data.\n",
    "    : keep_prob: Placeholder tensor that hold dropout keep probability.\n",
    "    : return: Tensor that represents logits\n",
    "    \"\"\"\n",
    "  \n",
    "    # TODO: Apply 1, 2, or 3 Convolution and Max Pool layers\n",
    "    #    Play around with different number of outputs, kernel size and stride\n",
    "    # Function Definition from Above:\n",
    "    #    conv2d_maxpool(x_tensor, conv_num_outputs, conv_ksize, conv_strides, pool_ksize, pool_strides)\n",
    "    #layer = conv2d_maxpool(x, 16, (6,6),(1,1),(2,2),(2,2))\n",
    "    #layer = conv2d_maxpool(layer, 32, (4,4), (1,1), (1,1), (1,1))\n",
    "    layer = conv2d_maxpool(x, 64, (4,4), (1,1), (2,2), (2,2))\n",
    "    tf.nn.dropout(layer, keep_prob=keep_prob)\n",
    "  \n",
    "\n",
    "    # TODO: Apply a Flatten Layer\n",
    "    # Function Definition from Above:\n",
    "    #   flatten(x_tensor)\n",
    "    layer = flatten(layer)\n",
    "\n",
    "    # TODO: Apply 1, 2, or 3 Fully Connected Layers\n",
    "    #    Play around with different number of outputs\n",
    "    # Function Definition from Above:\n",
    "    #   fully_conn(x_tensor, num_outputs)\n",
    "    layer = fully_conn(layer,500)\n",
    "    layer = tf.nn.dropout(layer, keep_prob)\n",
    "    layer = fully_conn(layer,100)\n",
    "    layer = tf.nn.dropout(layer, keep_prob)\n",
    "    \n",
    "    # TODO: Apply an Output Layer\n",
    "    #    Set this to the number of classes\n",
    "    # Function Definition from Above:\n",
    "    #   output(x_tensor, num_outputs)\n",
    "    \n",
    "    \n",
    "    # TODO: return output\n",
    "    return output(layer,10)\n",
    "\n",
    "\n",
    "\"\"\"\n",
    "DON'T MODIFY ANYTHING IN THIS CELL THAT IS BELOW THIS LINE\n",
    "\"\"\"\n",
    "\n",
    "##############################\n",
    "## Build the Neural Network ##\n",
    "##############################\n",
    "\n",
    "# Remove previous weights, bias, inputs, etc..\n",
    "tf.reset_default_graph()\n",
    "\n",
    "# Inputs\n",
    "x = neural_net_image_input((32, 32, 3))\n",
    "y = neural_net_label_input(10)\n",
    "keep_prob = neural_net_keep_prob_input()\n",
    "\n",
    "# Model\n",
    "logits = conv_net(x, keep_prob)\n",
    "\n",
    "# Name logits Tensor, so that is can be loaded from disk after training\n",
    "logits = tf.identity(logits, name='logits')\n",
    "\n",
    "# Loss and Optimizer\n",
    "cost = tf.reduce_mean(tf.nn.softmax_cross_entropy_with_logits(logits=logits, labels=y))\n",
    "optimizer = tf.train.AdamOptimizer().minimize(cost)\n",
    "\n",
    "# Accuracy\n",
    "correct_pred = tf.equal(tf.argmax(logits, 1), tf.argmax(y, 1))\n",
    "accuracy = tf.reduce_mean(tf.cast(correct_pred, tf.float32), name='accuracy')\n",
    "\n",
    "tests.test_conv_net(conv_net)"
   ]
  },
  {
   "cell_type": "markdown",
   "metadata": {},
   "source": [
    "## Train the Neural Network\n",
    "### Single Optimization\n",
    "Implement the function `train_neural_network` to do a single optimization.  The optimization should use `optimizer` to optimize in `session` with a `feed_dict` of the following:\n",
    "* `x` for image input\n",
    "* `y` for labels\n",
    "* `keep_prob` for keep probability for dropout\n",
    "\n",
    "This function will be called for each batch, so `tf.global_variables_initializer()` has already been called.\n",
    "\n",
    "Note: Nothing needs to be returned. This function is only optimizing the neural network."
   ]
  },
  {
   "cell_type": "code",
   "execution_count": 14,
   "metadata": {},
   "outputs": [
    {
     "name": "stdout",
     "output_type": "stream",
     "text": [
      "Tests Passed\n"
     ]
    }
   ],
   "source": [
    "def train_neural_network(session, optimizer, keep_probability, feature_batch, label_batch):\n",
    "    \"\"\"\n",
    "    Optimize the session on a batch of images and labels\n",
    "    : session: Current TensorFlow session\n",
    "    : optimizer: TensorFlow optimizer function\n",
    "    : keep_probability: keep probability\n",
    "    : feature_batch: Batch of Numpy image data\n",
    "    : label_batch: Batch of Numpy label data\n",
    "    \"\"\"\n",
    "    # TODO: Implement Function\n",
    "    session.run(optimizer,feed_dict={x:feature_batch,y:label_batch,keep_prob:keep_probability})\n",
    "\n",
    "\n",
    "\"\"\"\n",
    "DON'T MODIFY ANYTHING IN THIS CELL THAT IS BELOW THIS LINE\n",
    "\"\"\"\n",
    "tests.test_train_nn(train_neural_network)"
   ]
  },
  {
   "cell_type": "markdown",
   "metadata": {},
   "source": [
    "### Show Stats\n",
    "Implement the function `print_stats` to print loss and validation accuracy.  Use the global variables `valid_features` and `valid_labels` to calculate validation accuracy.  Use a keep probability of `1.0` to calculate the loss and validation accuracy."
   ]
  },
  {
   "cell_type": "code",
   "execution_count": 15,
   "metadata": {
    "collapsed": true
   },
   "outputs": [],
   "source": [
    "def print_stats(session, feature_batch, label_batch, cost, accuracy):\n",
    "    \"\"\"\n",
    "    Print information about loss and validation accuracy\n",
    "    : session: Current TensorFlow session\n",
    "    : feature_batch: Batch of Numpy image data\n",
    "    : label_batch: Batch of Numpy label data\n",
    "    : cost: TensorFlow cost function\n",
    "    : accuracy: TensorFlow accuracy function\n",
    "    \"\"\"\n",
    "    # TODO: Implement Function\n",
    "    loss = session.run(cost, feed_dict={x:feature_batch,y:label_batch,keep_prob:1.0})\n",
    "    valid_acc = session.run(accuracy,feed_dict={x:valid_features,y:valid_labels,keep_prob:1.0})\n",
    "    print(\"Loss: {0}, Validation accuracy: {1}\".format(loss,valid_acc))"
   ]
  },
  {
   "cell_type": "markdown",
   "metadata": {},
   "source": [
    "### Hyperparameters\n",
    "Tune the following parameters:\n",
    "* Set `epochs` to the number of iterations until the network stops learning or start overfitting\n",
    "* Set `batch_size` to the highest number that your machine has memory for.  Most people set them to common sizes of memory:\n",
    " * 64\n",
    " * 128\n",
    " * 256\n",
    " * ...\n",
    "* Set `keep_probability` to the probability of keeping a node using dropout"
   ]
  },
  {
   "cell_type": "code",
   "execution_count": 21,
   "metadata": {
    "collapsed": true
   },
   "outputs": [],
   "source": [
    "# TODO: Tune Parameters\n",
    "epochs = 50\n",
    "batch_size = 256\n",
    "keep_probability = 0.5"
   ]
  },
  {
   "cell_type": "markdown",
   "metadata": {},
   "source": [
    "### Train on a Single CIFAR-10 Batch\n",
    "Instead of training the neural network on all the CIFAR-10 batches of data, let's use a single batch. This should save time while you iterate on the model to get a better accuracy.  Once the final validation accuracy is 50% or greater, run the model on all the data in the next section."
   ]
  },
  {
   "cell_type": "code",
   "execution_count": 19,
   "metadata": {},
   "outputs": [
    {
     "name": "stdout",
     "output_type": "stream",
     "text": [
      "Checking the Training on a Single Batch...\n",
      "Epoch  1, CIFAR-10 Batch 1:  Loss: 2.267592191696167, Validation accuracy: 0.20499999821186066\n",
      "Epoch  2, CIFAR-10 Batch 1:  Loss: 2.083387613296509, Validation accuracy: 0.2581999897956848\n",
      "Epoch  3, CIFAR-10 Batch 1:  Loss: 1.9315483570098877, Validation accuracy: 0.3303999900817871\n",
      "Epoch  4, CIFAR-10 Batch 1:  Loss: 1.813576102256775, Validation accuracy: 0.39980000257492065\n",
      "Epoch  5, CIFAR-10 Batch 1:  Loss: 1.6339040994644165, Validation accuracy: 0.4291999936103821\n",
      "Epoch  6, CIFAR-10 Batch 1:  Loss: 1.466226577758789, Validation accuracy: 0.4487999975681305\n",
      "Epoch  7, CIFAR-10 Batch 1:  Loss: 1.2774450778961182, Validation accuracy: 0.46380001306533813\n",
      "Epoch  8, CIFAR-10 Batch 1:  Loss: 1.137373924255371, Validation accuracy: 0.4690000116825104\n",
      "Epoch  9, CIFAR-10 Batch 1:  Loss: 0.9769620895385742, Validation accuracy: 0.4950000047683716\n",
      "Epoch 10, CIFAR-10 Batch 1:  Loss: 0.8450713157653809, Validation accuracy: 0.5013999938964844\n",
      "Epoch 11, CIFAR-10 Batch 1:  Loss: 0.7366697192192078, Validation accuracy: 0.5095999836921692\n",
      "Epoch 12, CIFAR-10 Batch 1:  Loss: 0.6858871579170227, Validation accuracy: 0.5085999965667725\n",
      "Epoch 13, CIFAR-10 Batch 1:  Loss: 0.6379000544548035, Validation accuracy: 0.5116000175476074\n",
      "Epoch 14, CIFAR-10 Batch 1:  Loss: 0.5562447309494019, Validation accuracy: 0.5252000093460083\n",
      "Epoch 15, CIFAR-10 Batch 1:  Loss: 0.487476646900177, Validation accuracy: 0.5317999720573425\n",
      "Epoch 16, CIFAR-10 Batch 1:  Loss: 0.4487009048461914, Validation accuracy: 0.5404000282287598\n",
      "Epoch 17, CIFAR-10 Batch 1:  Loss: 0.3997516632080078, Validation accuracy: 0.5527999997138977\n",
      "Epoch 18, CIFAR-10 Batch 1:  Loss: 0.33005666732788086, Validation accuracy: 0.5473999977111816\n",
      "Epoch 19, CIFAR-10 Batch 1:  Loss: 0.3062403202056885, Validation accuracy: 0.5297999978065491\n",
      "Epoch 20, CIFAR-10 Batch 1:  Loss: 0.2788713574409485, Validation accuracy: 0.5491999983787537\n",
      "Epoch 21, CIFAR-10 Batch 1:  Loss: 0.26602691411972046, Validation accuracy: 0.5511999726295471\n",
      "Epoch 22, CIFAR-10 Batch 1:  Loss: 0.21544285118579865, Validation accuracy: 0.5600000023841858\n",
      "Epoch 23, CIFAR-10 Batch 1:  Loss: 0.22437918186187744, Validation accuracy: 0.5580000281333923\n",
      "Epoch 24, CIFAR-10 Batch 1:  Loss: 0.17106357216835022, Validation accuracy: 0.5590000152587891\n",
      "Epoch 25, CIFAR-10 Batch 1:  Loss: 0.1557895690202713, Validation accuracy: 0.5698000192642212\n",
      "Epoch 26, CIFAR-10 Batch 1:  Loss: 0.12721917033195496, Validation accuracy: 0.5703999996185303\n",
      "Epoch 27, CIFAR-10 Batch 1:  Loss: 0.11701593548059464, Validation accuracy: 0.5748000144958496\n",
      "Epoch 28, CIFAR-10 Batch 1:  Loss: 0.09924005717039108, Validation accuracy: 0.5785999894142151\n",
      "Epoch 29, CIFAR-10 Batch 1:  Loss: 0.09217964112758636, Validation accuracy: 0.5740000009536743\n",
      "Epoch 30, CIFAR-10 Batch 1:  Loss: 0.0801432877779007, Validation accuracy: 0.5741999745368958\n"
     ]
    }
   ],
   "source": [
    "\"\"\"\n",
    "DON'T MODIFY ANYTHING IN THIS CELL\n",
    "\"\"\"\n",
    "print('Checking the Training on a Single Batch...')\n",
    "with tf.Session() as sess:\n",
    "    # Initializing the variables\n",
    "    sess.run(tf.global_variables_initializer())\n",
    "    \n",
    "    # Training cycle\n",
    "    for epoch in range(epochs):\n",
    "        batch_i = 1\n",
    "        for batch_features, batch_labels in helper.load_preprocess_training_batch(batch_i, batch_size):\n",
    "            train_neural_network(sess, optimizer, keep_probability, batch_features, batch_labels)\n",
    "        print('Epoch {:>2}, CIFAR-10 Batch {}:  '.format(epoch + 1, batch_i), end='')\n",
    "        print_stats(sess, batch_features, batch_labels, cost, accuracy)"
   ]
  },
  {
   "cell_type": "markdown",
   "metadata": {},
   "source": [
    "### Fully Train the Model\n",
    "Now that you got a good accuracy with a single CIFAR-10 batch, try it with all five batches."
   ]
  },
  {
   "cell_type": "code",
   "execution_count": 23,
   "metadata": {},
   "outputs": [
    {
     "name": "stdout",
     "output_type": "stream",
     "text": [
      "Training...\n",
      "Epoch  1, CIFAR-10 Batch 1:  Loss: 2.2433180809020996, Validation accuracy: 0.20499999821186066\n",
      "Epoch  1, CIFAR-10 Batch 2:  Loss: 2.022571563720703, Validation accuracy: 0.2791999876499176\n",
      "Epoch  1, CIFAR-10 Batch 3:  Loss: 1.7325814962387085, Validation accuracy: 0.3686000108718872\n",
      "Epoch  1, CIFAR-10 Batch 4:  Loss: 1.7278029918670654, Validation accuracy: 0.39980000257492065\n",
      "Epoch  1, CIFAR-10 Batch 5:  Loss: 1.6553609371185303, Validation accuracy: 0.4334000051021576\n",
      "Epoch  2, CIFAR-10 Batch 1:  Loss: 1.7048012018203735, Validation accuracy: 0.4440000057220459\n",
      "Epoch  2, CIFAR-10 Batch 2:  Loss: 1.4306831359863281, Validation accuracy: 0.477400004863739\n",
      "Epoch  2, CIFAR-10 Batch 3:  Loss: 1.267775297164917, Validation accuracy: 0.4819999933242798\n",
      "Epoch  2, CIFAR-10 Batch 4:  Loss: 1.3349645137786865, Validation accuracy: 0.49300000071525574\n",
      "Epoch  2, CIFAR-10 Batch 5:  Loss: 1.315279483795166, Validation accuracy: 0.5063999891281128\n",
      "Epoch  3, CIFAR-10 Batch 1:  Loss: 1.4174723625183105, Validation accuracy: 0.5217999815940857\n",
      "Epoch  3, CIFAR-10 Batch 2:  Loss: 1.0525903701782227, Validation accuracy: 0.5198000073432922\n",
      "Epoch  3, CIFAR-10 Batch 3:  Loss: 1.0340089797973633, Validation accuracy: 0.5393999814987183\n",
      "Epoch  3, CIFAR-10 Batch 4:  Loss: 1.1458064317703247, Validation accuracy: 0.5388000011444092\n",
      "Epoch  3, CIFAR-10 Batch 5:  Loss: 1.0665192604064941, Validation accuracy: 0.5446000099182129\n",
      "Epoch  4, CIFAR-10 Batch 1:  Loss: 1.1463203430175781, Validation accuracy: 0.553600013256073\n",
      "Epoch  4, CIFAR-10 Batch 2:  Loss: 0.9134404063224792, Validation accuracy: 0.5386000275611877\n",
      "Epoch  4, CIFAR-10 Batch 3:  Loss: 0.8005449175834656, Validation accuracy: 0.5698000192642212\n",
      "Epoch  4, CIFAR-10 Batch 4:  Loss: 1.0350764989852905, Validation accuracy: 0.5613999962806702\n",
      "Epoch  4, CIFAR-10 Batch 5:  Loss: 0.8754006624221802, Validation accuracy: 0.5802000164985657\n",
      "Epoch  5, CIFAR-10 Batch 1:  Loss: 0.9086737632751465, Validation accuracy: 0.5835999846458435\n",
      "Epoch  5, CIFAR-10 Batch 2:  Loss: 0.7065473794937134, Validation accuracy: 0.5723999738693237\n",
      "Epoch  5, CIFAR-10 Batch 3:  Loss: 0.6082481741905212, Validation accuracy: 0.5898000001907349\n",
      "Epoch  5, CIFAR-10 Batch 4:  Loss: 0.8201583623886108, Validation accuracy: 0.5907999873161316\n",
      "Epoch  5, CIFAR-10 Batch 5:  Loss: 0.7065991163253784, Validation accuracy: 0.5971999764442444\n",
      "Epoch  6, CIFAR-10 Batch 1:  Loss: 0.8357595205307007, Validation accuracy: 0.5856000185012817\n",
      "Epoch  6, CIFAR-10 Batch 2:  Loss: 0.5657781362533569, Validation accuracy: 0.6055999994277954\n",
      "Epoch  6, CIFAR-10 Batch 3:  Loss: 0.4967805743217468, Validation accuracy: 0.6000000238418579\n",
      "Epoch  6, CIFAR-10 Batch 4:  Loss: 0.6404954195022583, Validation accuracy: 0.6096000075340271\n",
      "Epoch  6, CIFAR-10 Batch 5:  Loss: 0.6039679646492004, Validation accuracy: 0.6074000000953674\n",
      "Epoch  7, CIFAR-10 Batch 1:  Loss: 0.5860253572463989, Validation accuracy: 0.609000027179718\n",
      "Epoch  7, CIFAR-10 Batch 2:  Loss: 0.4655269980430603, Validation accuracy: 0.6172000169754028\n",
      "Epoch  7, CIFAR-10 Batch 3:  Loss: 0.38872507214546204, Validation accuracy: 0.6236000061035156\n",
      "Epoch  7, CIFAR-10 Batch 4:  Loss: 0.5252417325973511, Validation accuracy: 0.6241999864578247\n",
      "Epoch  7, CIFAR-10 Batch 5:  Loss: 0.4746944308280945, Validation accuracy: 0.6323999762535095\n",
      "Epoch  8, CIFAR-10 Batch 1:  Loss: 0.5406699180603027, Validation accuracy: 0.6349999904632568\n",
      "Epoch  8, CIFAR-10 Batch 2:  Loss: 0.4226722717285156, Validation accuracy: 0.6218000054359436\n",
      "Epoch  8, CIFAR-10 Batch 3:  Loss: 0.34113651514053345, Validation accuracy: 0.6204000115394592\n",
      "Epoch  8, CIFAR-10 Batch 4:  Loss: 0.39691948890686035, Validation accuracy: 0.6359999775886536\n",
      "Epoch  8, CIFAR-10 Batch 5:  Loss: 0.40314769744873047, Validation accuracy: 0.6312000155448914\n",
      "Epoch  9, CIFAR-10 Batch 1:  Loss: 0.48803871870040894, Validation accuracy: 0.6308000087738037\n",
      "Epoch  9, CIFAR-10 Batch 2:  Loss: 0.3116580545902252, Validation accuracy: 0.6380000114440918\n",
      "Epoch  9, CIFAR-10 Batch 3:  Loss: 0.26752161979675293, Validation accuracy: 0.6326000094413757\n",
      "Epoch  9, CIFAR-10 Batch 4:  Loss: 0.3092840313911438, Validation accuracy: 0.6498000025749207\n",
      "Epoch  9, CIFAR-10 Batch 5:  Loss: 0.32759788632392883, Validation accuracy: 0.6394000053405762\n",
      "Epoch 10, CIFAR-10 Batch 1:  Loss: 0.3677385449409485, Validation accuracy: 0.6442000269889832\n",
      "Epoch 10, CIFAR-10 Batch 2:  Loss: 0.2951892912387848, Validation accuracy: 0.6452000141143799\n",
      "Epoch 10, CIFAR-10 Batch 3:  Loss: 0.2098269909620285, Validation accuracy: 0.6416000127792358\n",
      "Epoch 10, CIFAR-10 Batch 4:  Loss: 0.2615237832069397, Validation accuracy: 0.6552000045776367\n",
      "Epoch 10, CIFAR-10 Batch 5:  Loss: 0.25820937752723694, Validation accuracy: 0.6452000141143799\n",
      "Epoch 11, CIFAR-10 Batch 1:  Loss: 0.31927675008773804, Validation accuracy: 0.6294000148773193\n",
      "Epoch 11, CIFAR-10 Batch 2:  Loss: 0.21475262939929962, Validation accuracy: 0.6488000154495239\n",
      "Epoch 11, CIFAR-10 Batch 3:  Loss: 0.17916038632392883, Validation accuracy: 0.652400016784668\n",
      "Epoch 11, CIFAR-10 Batch 4:  Loss: 0.206959530711174, Validation accuracy: 0.6456000208854675\n",
      "Epoch 11, CIFAR-10 Batch 5:  Loss: 0.2175198495388031, Validation accuracy: 0.6565999984741211\n",
      "Epoch 12, CIFAR-10 Batch 1:  Loss: 0.2692434787750244, Validation accuracy: 0.6481999754905701\n",
      "Epoch 12, CIFAR-10 Batch 2:  Loss: 0.18261754512786865, Validation accuracy: 0.6546000242233276\n",
      "Epoch 12, CIFAR-10 Batch 3:  Loss: 0.15944549441337585, Validation accuracy: 0.6520000100135803\n",
      "Epoch 12, CIFAR-10 Batch 4:  Loss: 0.1620357781648636, Validation accuracy: 0.6538000106811523\n",
      "Epoch 12, CIFAR-10 Batch 5:  Loss: 0.1728094220161438, Validation accuracy: 0.6621999740600586\n",
      "Epoch 13, CIFAR-10 Batch 1:  Loss: 0.21349017322063446, Validation accuracy: 0.644599974155426\n",
      "Epoch 13, CIFAR-10 Batch 2:  Loss: 0.1420527994632721, Validation accuracy: 0.6618000268936157\n",
      "Epoch 13, CIFAR-10 Batch 3:  Loss: 0.1313326060771942, Validation accuracy: 0.6557999849319458\n",
      "Epoch 13, CIFAR-10 Batch 4:  Loss: 0.1551080197095871, Validation accuracy: 0.6556000113487244\n",
      "Epoch 13, CIFAR-10 Batch 5:  Loss: 0.13571417331695557, Validation accuracy: 0.6582000255584717\n",
      "Epoch 14, CIFAR-10 Batch 1:  Loss: 0.16050036251544952, Validation accuracy: 0.6538000106811523\n",
      "Epoch 14, CIFAR-10 Batch 2:  Loss: 0.12325213849544525, Validation accuracy: 0.649399995803833\n",
      "Epoch 14, CIFAR-10 Batch 3:  Loss: 0.10633929073810577, Validation accuracy: 0.6615999937057495\n",
      "Epoch 14, CIFAR-10 Batch 4:  Loss: 0.12084503471851349, Validation accuracy: 0.6583999991416931\n",
      "Epoch 14, CIFAR-10 Batch 5:  Loss: 0.09625774621963501, Validation accuracy: 0.6715999841690063\n",
      "Epoch 15, CIFAR-10 Batch 1:  Loss: 0.14028410613536835, Validation accuracy: 0.6589999794960022\n",
      "Epoch 15, CIFAR-10 Batch 2:  Loss: 0.11041414737701416, Validation accuracy: 0.6520000100135803\n",
      "Epoch 15, CIFAR-10 Batch 3:  Loss: 0.08577917516231537, Validation accuracy: 0.6603999733924866\n",
      "Epoch 15, CIFAR-10 Batch 4:  Loss: 0.10686586052179337, Validation accuracy: 0.6618000268936157\n",
      "Epoch 15, CIFAR-10 Batch 5:  Loss: 0.08518684655427933, Validation accuracy: 0.6687999963760376\n",
      "Epoch 16, CIFAR-10 Batch 1:  Loss: 0.12862172722816467, Validation accuracy: 0.6478000283241272\n",
      "Epoch 16, CIFAR-10 Batch 2:  Loss: 0.0831838846206665, Validation accuracy: 0.6686000227928162\n",
      "Epoch 16, CIFAR-10 Batch 3:  Loss: 0.0629674643278122, Validation accuracy: 0.6650000214576721\n",
      "Epoch 16, CIFAR-10 Batch 4:  Loss: 0.07337754219770432, Validation accuracy: 0.6615999937057495\n",
      "Epoch 16, CIFAR-10 Batch 5:  Loss: 0.0781790018081665, Validation accuracy: 0.670199990272522\n",
      "Epoch 17, CIFAR-10 Batch 1:  Loss: 0.11156599223613739, Validation accuracy: 0.6520000100135803\n",
      "Epoch 17, CIFAR-10 Batch 2:  Loss: 0.0687783807516098, Validation accuracy: 0.6546000242233276\n",
      "Epoch 17, CIFAR-10 Batch 3:  Loss: 0.05456607788801193, Validation accuracy: 0.6579999923706055\n",
      "Epoch 17, CIFAR-10 Batch 4:  Loss: 0.06438428163528442, Validation accuracy: 0.6651999950408936\n",
      "Epoch 17, CIFAR-10 Batch 5:  Loss: 0.059961505234241486, Validation accuracy: 0.6632000207901001\n",
      "Epoch 18, CIFAR-10 Batch 1:  Loss: 0.0803648978471756, Validation accuracy: 0.6593999862670898\n"
     ]
    },
    {
     "name": "stdout",
     "output_type": "stream",
     "text": [
      "Epoch 18, CIFAR-10 Batch 2:  Loss: 0.06023033335804939, Validation accuracy: 0.6492000222206116\n",
      "Epoch 18, CIFAR-10 Batch 3:  Loss: 0.038271598517894745, Validation accuracy: 0.6638000011444092\n",
      "Epoch 18, CIFAR-10 Batch 4:  Loss: 0.059272825717926025, Validation accuracy: 0.6615999937057495\n",
      "Epoch 18, CIFAR-10 Batch 5:  Loss: 0.057194679975509644, Validation accuracy: 0.6638000011444092\n",
      "Epoch 19, CIFAR-10 Batch 1:  Loss: 0.09103012830018997, Validation accuracy: 0.6570000052452087\n",
      "Epoch 19, CIFAR-10 Batch 2:  Loss: 0.03844781965017319, Validation accuracy: 0.6442000269889832\n",
      "Epoch 19, CIFAR-10 Batch 3:  Loss: 0.0346691831946373, Validation accuracy: 0.6678000092506409\n",
      "Epoch 19, CIFAR-10 Batch 4:  Loss: 0.047102995216846466, Validation accuracy: 0.6528000235557556\n",
      "Epoch 19, CIFAR-10 Batch 5:  Loss: 0.03579114004969597, Validation accuracy: 0.6629999876022339\n",
      "Epoch 20, CIFAR-10 Batch 1:  Loss: 0.06203753873705864, Validation accuracy: 0.6660000085830688\n",
      "Epoch 20, CIFAR-10 Batch 2:  Loss: 0.055030565708875656, Validation accuracy: 0.6510000228881836\n",
      "Epoch 20, CIFAR-10 Batch 3:  Loss: 0.025354692712426186, Validation accuracy: 0.6618000268936157\n",
      "Epoch 20, CIFAR-10 Batch 4:  Loss: 0.041056469082832336, Validation accuracy: 0.6525999903678894\n",
      "Epoch 20, CIFAR-10 Batch 5:  Loss: 0.041128456592559814, Validation accuracy: 0.6525999903678894\n",
      "Epoch 21, CIFAR-10 Batch 1:  Loss: 0.056357599794864655, Validation accuracy: 0.6668000221252441\n",
      "Epoch 21, CIFAR-10 Batch 2:  Loss: 0.06774529069662094, Validation accuracy: 0.646399974822998\n",
      "Epoch 21, CIFAR-10 Batch 3:  Loss: 0.02135513722896576, Validation accuracy: 0.6610000133514404\n",
      "Epoch 21, CIFAR-10 Batch 4:  Loss: 0.03735239431262016, Validation accuracy: 0.6646000146865845\n",
      "Epoch 21, CIFAR-10 Batch 5:  Loss: 0.025383781641721725, Validation accuracy: 0.6574000120162964\n",
      "Epoch 22, CIFAR-10 Batch 1:  Loss: 0.0487540066242218, Validation accuracy: 0.659600019454956\n",
      "Epoch 22, CIFAR-10 Batch 2:  Loss: 0.06782563775777817, Validation accuracy: 0.6507999897003174\n",
      "Epoch 22, CIFAR-10 Batch 3:  Loss: 0.01874120905995369, Validation accuracy: 0.6661999821662903\n",
      "Epoch 22, CIFAR-10 Batch 4:  Loss: 0.038447655737400055, Validation accuracy: 0.6557999849319458\n",
      "Epoch 22, CIFAR-10 Batch 5:  Loss: 0.020078100264072418, Validation accuracy: 0.6660000085830688\n",
      "Epoch 23, CIFAR-10 Batch 1:  Loss: 0.048041097819805145, Validation accuracy: 0.6690000295639038\n",
      "Epoch 23, CIFAR-10 Batch 2:  Loss: 0.04855198785662651, Validation accuracy: 0.6452000141143799\n",
      "Epoch 23, CIFAR-10 Batch 3:  Loss: 0.01487034372985363, Validation accuracy: 0.6754000186920166\n",
      "Epoch 23, CIFAR-10 Batch 4:  Loss: 0.027607223019003868, Validation accuracy: 0.6478000283241272\n",
      "Epoch 23, CIFAR-10 Batch 5:  Loss: 0.01652037724852562, Validation accuracy: 0.66839998960495\n",
      "Epoch 24, CIFAR-10 Batch 1:  Loss: 0.04036946967244148, Validation accuracy: 0.6516000032424927\n",
      "Epoch 24, CIFAR-10 Batch 2:  Loss: 0.03326108306646347, Validation accuracy: 0.657800018787384\n",
      "Epoch 24, CIFAR-10 Batch 3:  Loss: 0.011147881858050823, Validation accuracy: 0.6714000105857849\n",
      "Epoch 24, CIFAR-10 Batch 4:  Loss: 0.02277299016714096, Validation accuracy: 0.66839998960495\n",
      "Epoch 24, CIFAR-10 Batch 5:  Loss: 0.016504663974046707, Validation accuracy: 0.6714000105857849\n",
      "Epoch 25, CIFAR-10 Batch 1:  Loss: 0.024391058832406998, Validation accuracy: 0.6615999937057495\n",
      "Epoch 25, CIFAR-10 Batch 2:  Loss: 0.025415366515517235, Validation accuracy: 0.66839998960495\n",
      "Epoch 25, CIFAR-10 Batch 3:  Loss: 0.0101395258679986, Validation accuracy: 0.6743999719619751\n",
      "Epoch 25, CIFAR-10 Batch 4:  Loss: 0.022357985377311707, Validation accuracy: 0.6549999713897705\n",
      "Epoch 25, CIFAR-10 Batch 5:  Loss: 0.007839005440473557, Validation accuracy: 0.6668000221252441\n",
      "Epoch 26, CIFAR-10 Batch 1:  Loss: 0.023298945277929306, Validation accuracy: 0.6777999997138977\n",
      "Epoch 26, CIFAR-10 Batch 2:  Loss: 0.016542144119739532, Validation accuracy: 0.6668000221252441\n",
      "Epoch 26, CIFAR-10 Batch 3:  Loss: 0.005056341644376516, Validation accuracy: 0.6697999835014343\n",
      "Epoch 26, CIFAR-10 Batch 4:  Loss: 0.013830403797328472, Validation accuracy: 0.657800018787384\n",
      "Epoch 26, CIFAR-10 Batch 5:  Loss: 0.006462617311626673, Validation accuracy: 0.670199990272522\n",
      "Epoch 27, CIFAR-10 Batch 1:  Loss: 0.014506056904792786, Validation accuracy: 0.6687999963760376\n",
      "Epoch 27, CIFAR-10 Batch 2:  Loss: 0.009793716482818127, Validation accuracy: 0.6723999977111816\n",
      "Epoch 27, CIFAR-10 Batch 3:  Loss: 0.0051185316406190395, Validation accuracy: 0.6672000288963318\n",
      "Epoch 27, CIFAR-10 Batch 4:  Loss: 0.018727535381913185, Validation accuracy: 0.6633999943733215\n",
      "Epoch 27, CIFAR-10 Batch 5:  Loss: 0.007316842675209045, Validation accuracy: 0.6686000227928162\n",
      "Epoch 28, CIFAR-10 Batch 1:  Loss: 0.01161090936511755, Validation accuracy: 0.6728000044822693\n",
      "Epoch 28, CIFAR-10 Batch 2:  Loss: 0.01421356201171875, Validation accuracy: 0.6743999719619751\n",
      "Epoch 28, CIFAR-10 Batch 3:  Loss: 0.0064080520533025265, Validation accuracy: 0.6624000072479248\n",
      "Epoch 28, CIFAR-10 Batch 4:  Loss: 0.010877001099288464, Validation accuracy: 0.6557999849319458\n",
      "Epoch 28, CIFAR-10 Batch 5:  Loss: 0.007839280180633068, Validation accuracy: 0.6754000186920166\n",
      "Epoch 29, CIFAR-10 Batch 1:  Loss: 0.010295333340764046, Validation accuracy: 0.6759999990463257\n",
      "Epoch 29, CIFAR-10 Batch 2:  Loss: 0.02909724973142147, Validation accuracy: 0.671999990940094\n",
      "Epoch 29, CIFAR-10 Batch 3:  Loss: 0.005011419765651226, Validation accuracy: 0.6682000160217285\n",
      "Epoch 29, CIFAR-10 Batch 4:  Loss: 0.011595550924539566, Validation accuracy: 0.6531999707221985\n",
      "Epoch 29, CIFAR-10 Batch 5:  Loss: 0.011568072251975536, Validation accuracy: 0.6715999841690063\n",
      "Epoch 30, CIFAR-10 Batch 1:  Loss: 0.008007255382835865, Validation accuracy: 0.6624000072479248\n",
      "Epoch 30, CIFAR-10 Batch 2:  Loss: 0.018707361072301865, Validation accuracy: 0.6718000173568726\n",
      "Epoch 30, CIFAR-10 Batch 3:  Loss: 0.0034740499686449766, Validation accuracy: 0.6696000099182129\n",
      "Epoch 30, CIFAR-10 Batch 4:  Loss: 0.005935447756201029, Validation accuracy: 0.6638000011444092\n",
      "Epoch 30, CIFAR-10 Batch 5:  Loss: 0.006045203655958176, Validation accuracy: 0.6722000241279602\n",
      "Epoch 31, CIFAR-10 Batch 1:  Loss: 0.009679525159299374, Validation accuracy: 0.671999990940094\n",
      "Epoch 31, CIFAR-10 Batch 2:  Loss: 0.008510800078511238, Validation accuracy: 0.6794000267982483\n",
      "Epoch 31, CIFAR-10 Batch 3:  Loss: 0.003783686552196741, Validation accuracy: 0.676800012588501\n",
      "Epoch 31, CIFAR-10 Batch 4:  Loss: 0.005278558935970068, Validation accuracy: 0.6565999984741211\n",
      "Epoch 31, CIFAR-10 Batch 5:  Loss: 0.0031692106276750565, Validation accuracy: 0.6769999861717224\n",
      "Epoch 32, CIFAR-10 Batch 1:  Loss: 0.006755882408469915, Validation accuracy: 0.6693999767303467\n",
      "Epoch 32, CIFAR-10 Batch 2:  Loss: 0.004746083170175552, Validation accuracy: 0.6711999773979187\n",
      "Epoch 32, CIFAR-10 Batch 3:  Loss: 0.0020772009156644344, Validation accuracy: 0.6678000092506409\n",
      "Epoch 32, CIFAR-10 Batch 4:  Loss: 0.0048401192761957645, Validation accuracy: 0.6603999733924866\n",
      "Epoch 32, CIFAR-10 Batch 5:  Loss: 0.002986303763464093, Validation accuracy: 0.6705999970436096\n",
      "Epoch 33, CIFAR-10 Batch 1:  Loss: 0.006153082009404898, Validation accuracy: 0.6687999963760376\n",
      "Epoch 33, CIFAR-10 Batch 2:  Loss: 0.00463129160925746, Validation accuracy: 0.6593999862670898\n",
      "Epoch 33, CIFAR-10 Batch 3:  Loss: 0.002717457013204694, Validation accuracy: 0.6615999937057495\n",
      "Epoch 33, CIFAR-10 Batch 4:  Loss: 0.0044858092442154884, Validation accuracy: 0.6618000268936157\n",
      "Epoch 33, CIFAR-10 Batch 5:  Loss: 0.002867064904421568, Validation accuracy: 0.6647999882698059\n",
      "Epoch 34, CIFAR-10 Batch 1:  Loss: 0.007097184658050537, Validation accuracy: 0.671999990940094\n",
      "Epoch 34, CIFAR-10 Batch 2:  Loss: 0.005593595094978809, Validation accuracy: 0.6621999740600586\n",
      "Epoch 34, CIFAR-10 Batch 3:  Loss: 0.0028602578677237034, Validation accuracy: 0.6660000085830688\n",
      "Epoch 34, CIFAR-10 Batch 4:  Loss: 0.0037919399328529835, Validation accuracy: 0.6765999794006348\n",
      "Epoch 34, CIFAR-10 Batch 5:  Loss: 0.0014716715086251497, Validation accuracy: 0.6710000038146973\n",
      "Epoch 35, CIFAR-10 Batch 1:  Loss: 0.005192148964852095, Validation accuracy: 0.6740000247955322\n"
     ]
    },
    {
     "name": "stdout",
     "output_type": "stream",
     "text": [
      "Epoch 35, CIFAR-10 Batch 2:  Loss: 0.003138683270663023, Validation accuracy: 0.6665999889373779\n",
      "Epoch 35, CIFAR-10 Batch 3:  Loss: 0.002270160708576441, Validation accuracy: 0.673799991607666\n",
      "Epoch 35, CIFAR-10 Batch 4:  Loss: 0.0026191386859863997, Validation accuracy: 0.6657999753952026\n",
      "Epoch 35, CIFAR-10 Batch 5:  Loss: 0.0013818844454362988, Validation accuracy: 0.6718000173568726\n",
      "Epoch 36, CIFAR-10 Batch 1:  Loss: 0.00586314219981432, Validation accuracy: 0.6611999869346619\n",
      "Epoch 36, CIFAR-10 Batch 2:  Loss: 0.005765455774962902, Validation accuracy: 0.6687999963760376\n",
      "Epoch 36, CIFAR-10 Batch 3:  Loss: 0.0011987187899649143, Validation accuracy: 0.6686000227928162\n",
      "Epoch 36, CIFAR-10 Batch 4:  Loss: 0.003078816458582878, Validation accuracy: 0.6624000072479248\n",
      "Epoch 36, CIFAR-10 Batch 5:  Loss: 0.002191669773310423, Validation accuracy: 0.6711999773979187\n",
      "Epoch 37, CIFAR-10 Batch 1:  Loss: 0.009810389950871468, Validation accuracy: 0.6669999957084656\n",
      "Epoch 37, CIFAR-10 Batch 2:  Loss: 0.0036730810534209013, Validation accuracy: 0.6675999760627747\n",
      "Epoch 37, CIFAR-10 Batch 3:  Loss: 0.0005615572445094585, Validation accuracy: 0.6682000160217285\n",
      "Epoch 37, CIFAR-10 Batch 4:  Loss: 0.002014158759266138, Validation accuracy: 0.6679999828338623\n",
      "Epoch 37, CIFAR-10 Batch 5:  Loss: 0.0013065070379525423, Validation accuracy: 0.6638000011444092\n",
      "Epoch 38, CIFAR-10 Batch 1:  Loss: 0.005098253488540649, Validation accuracy: 0.6672000288963318\n",
      "Epoch 38, CIFAR-10 Batch 2:  Loss: 0.0027911353390663862, Validation accuracy: 0.6642000079154968\n",
      "Epoch 38, CIFAR-10 Batch 3:  Loss: 0.0011603021994233131, Validation accuracy: 0.6633999943733215\n",
      "Epoch 38, CIFAR-10 Batch 4:  Loss: 0.017971862107515335, Validation accuracy: 0.6700000166893005\n",
      "Epoch 38, CIFAR-10 Batch 5:  Loss: 0.001645901007577777, Validation accuracy: 0.6697999835014343\n",
      "Epoch 39, CIFAR-10 Batch 1:  Loss: 0.0060631646774709225, Validation accuracy: 0.6696000099182129\n",
      "Epoch 39, CIFAR-10 Batch 2:  Loss: 0.002623590175062418, Validation accuracy: 0.6633999943733215\n",
      "Epoch 39, CIFAR-10 Batch 3:  Loss: 0.002611220348626375, Validation accuracy: 0.6758000254631042\n",
      "Epoch 39, CIFAR-10 Batch 4:  Loss: 0.019595952704548836, Validation accuracy: 0.6629999876022339\n",
      "Epoch 39, CIFAR-10 Batch 5:  Loss: 0.0012673402670770884, Validation accuracy: 0.6761999726295471\n",
      "Epoch 40, CIFAR-10 Batch 1:  Loss: 0.004445401486009359, Validation accuracy: 0.6575999855995178\n",
      "Epoch 40, CIFAR-10 Batch 2:  Loss: 0.0019245280418545008, Validation accuracy: 0.6611999869346619\n",
      "Epoch 40, CIFAR-10 Batch 3:  Loss: 0.0008612904930487275, Validation accuracy: 0.6718000173568726\n",
      "Epoch 40, CIFAR-10 Batch 4:  Loss: 0.003765307366847992, Validation accuracy: 0.6607999801635742\n",
      "Epoch 40, CIFAR-10 Batch 5:  Loss: 0.0013392099644988775, Validation accuracy: 0.675000011920929\n",
      "Epoch 41, CIFAR-10 Batch 1:  Loss: 0.006216099020093679, Validation accuracy: 0.6603999733924866\n",
      "Epoch 41, CIFAR-10 Batch 2:  Loss: 0.0022308349143713713, Validation accuracy: 0.6607999801635742\n",
      "Epoch 41, CIFAR-10 Batch 3:  Loss: 0.001197749050334096, Validation accuracy: 0.6711999773979187\n",
      "Epoch 41, CIFAR-10 Batch 4:  Loss: 0.0029720612801611423, Validation accuracy: 0.6597999930381775\n",
      "Epoch 41, CIFAR-10 Batch 5:  Loss: 0.00147071888204664, Validation accuracy: 0.6809999942779541\n",
      "Epoch 42, CIFAR-10 Batch 1:  Loss: 0.0035961554385721684, Validation accuracy: 0.6661999821662903\n",
      "Epoch 42, CIFAR-10 Batch 2:  Loss: 0.003972986247390509, Validation accuracy: 0.6592000126838684\n",
      "Epoch 42, CIFAR-10 Batch 3:  Loss: 0.0011340569471940398, Validation accuracy: 0.6611999869346619\n",
      "Epoch 42, CIFAR-10 Batch 4:  Loss: 0.0014856564812362194, Validation accuracy: 0.6639999747276306\n",
      "Epoch 42, CIFAR-10 Batch 5:  Loss: 0.002073590410873294, Validation accuracy: 0.6705999970436096\n",
      "Epoch 43, CIFAR-10 Batch 1:  Loss: 0.0019603553228080273, Validation accuracy: 0.6801999807357788\n",
      "Epoch 43, CIFAR-10 Batch 2:  Loss: 0.002355035860091448, Validation accuracy: 0.6571999788284302\n",
      "Epoch 43, CIFAR-10 Batch 3:  Loss: 0.00035534187918528914, Validation accuracy: 0.6759999990463257\n",
      "Epoch 43, CIFAR-10 Batch 4:  Loss: 0.0015348949236795306, Validation accuracy: 0.6656000018119812\n",
      "Epoch 43, CIFAR-10 Batch 5:  Loss: 0.001174713484942913, Validation accuracy: 0.6758000254631042\n",
      "Epoch 44, CIFAR-10 Batch 1:  Loss: 0.0015012396033853292, Validation accuracy: 0.6686000227928162\n",
      "Epoch 44, CIFAR-10 Batch 2:  Loss: 0.00213555502705276, Validation accuracy: 0.6607999801635742\n",
      "Epoch 44, CIFAR-10 Batch 3:  Loss: 0.0005599722499027848, Validation accuracy: 0.671999990940094\n",
      "Epoch 44, CIFAR-10 Batch 4:  Loss: 0.0017039995873346925, Validation accuracy: 0.6679999828338623\n",
      "Epoch 44, CIFAR-10 Batch 5:  Loss: 0.0012731958413496614, Validation accuracy: 0.6746000051498413\n",
      "Epoch 45, CIFAR-10 Batch 1:  Loss: 0.00091071508359164, Validation accuracy: 0.6668000221252441\n",
      "Epoch 45, CIFAR-10 Batch 2:  Loss: 0.0020835204049944878, Validation accuracy: 0.656000018119812\n",
      "Epoch 45, CIFAR-10 Batch 3:  Loss: 0.0007125266711227596, Validation accuracy: 0.6736000180244446\n",
      "Epoch 45, CIFAR-10 Batch 4:  Loss: 0.001876862021163106, Validation accuracy: 0.6650000214576721\n",
      "Epoch 45, CIFAR-10 Batch 5:  Loss: 0.0011040606768801808, Validation accuracy: 0.6669999957084656\n",
      "Epoch 46, CIFAR-10 Batch 1:  Loss: 0.0014419257640838623, Validation accuracy: 0.6642000079154968\n",
      "Epoch 46, CIFAR-10 Batch 2:  Loss: 0.0018432631622999907, Validation accuracy: 0.6567999720573425\n",
      "Epoch 46, CIFAR-10 Batch 3:  Loss: 0.0005551640060730278, Validation accuracy: 0.6656000018119812\n",
      "Epoch 46, CIFAR-10 Batch 4:  Loss: 0.0037366263568401337, Validation accuracy: 0.6643999814987183\n",
      "Epoch 46, CIFAR-10 Batch 5:  Loss: 0.0015214623417705297, Validation accuracy: 0.6692000031471252\n",
      "Epoch 47, CIFAR-10 Batch 1:  Loss: 0.0013282365398481488, Validation accuracy: 0.6606000065803528\n",
      "Epoch 47, CIFAR-10 Batch 2:  Loss: 0.001420484040863812, Validation accuracy: 0.6567999720573425\n",
      "Epoch 47, CIFAR-10 Batch 3:  Loss: 0.0004962049424648285, Validation accuracy: 0.6638000011444092\n",
      "Epoch 47, CIFAR-10 Batch 4:  Loss: 0.0017099159304052591, Validation accuracy: 0.6620000004768372\n",
      "Epoch 47, CIFAR-10 Batch 5:  Loss: 0.0015475268010050058, Validation accuracy: 0.6697999835014343\n",
      "Epoch 48, CIFAR-10 Batch 1:  Loss: 0.0018927967175841331, Validation accuracy: 0.656000018119812\n",
      "Epoch 48, CIFAR-10 Batch 2:  Loss: 0.00212223082780838, Validation accuracy: 0.6571999788284302\n",
      "Epoch 48, CIFAR-10 Batch 3:  Loss: 0.0003210545692127198, Validation accuracy: 0.6650000214576721\n",
      "Epoch 48, CIFAR-10 Batch 4:  Loss: 0.0015416748356074095, Validation accuracy: 0.6639999747276306\n",
      "Epoch 48, CIFAR-10 Batch 5:  Loss: 0.0007130956510081887, Validation accuracy: 0.6747999787330627\n",
      "Epoch 49, CIFAR-10 Batch 1:  Loss: 0.0008390895090997219, Validation accuracy: 0.6593999862670898\n",
      "Epoch 49, CIFAR-10 Batch 2:  Loss: 0.0009139349567703903, Validation accuracy: 0.6618000268936157\n",
      "Epoch 49, CIFAR-10 Batch 3:  Loss: 0.0004006927483715117, Validation accuracy: 0.6679999828338623\n",
      "Epoch 49, CIFAR-10 Batch 4:  Loss: 0.0014939751708880067, Validation accuracy: 0.6668000221252441\n",
      "Epoch 49, CIFAR-10 Batch 5:  Loss: 0.001199601567350328, Validation accuracy: 0.66839998960495\n",
      "Epoch 50, CIFAR-10 Batch 1:  Loss: 0.0014629369834437966, Validation accuracy: 0.6603999733924866\n",
      "Epoch 50, CIFAR-10 Batch 2:  Loss: 0.0009747776202857494, Validation accuracy: 0.6636000275611877\n",
      "Epoch 50, CIFAR-10 Batch 3:  Loss: 0.00048308545956388116, Validation accuracy: 0.6693999767303467\n",
      "Epoch 50, CIFAR-10 Batch 4:  Loss: 0.0016448888927698135, Validation accuracy: 0.6600000262260437\n",
      "Epoch 50, CIFAR-10 Batch 5:  Loss: 0.0011013227049261332, Validation accuracy: 0.6639999747276306\n"
     ]
    }
   ],
   "source": [
    "\"\"\"\n",
    "DON'T MODIFY ANYTHING IN THIS CELL\n",
    "\"\"\"\n",
    "save_model_path = './image_classification'\n",
    "\n",
    "print('Training...')\n",
    "with tf.Session() as sess:\n",
    "    # Initializing the variables\n",
    "    sess.run(tf.global_variables_initializer())\n",
    "    \n",
    "    # Training cycle\n",
    "    for epoch in range(epochs):\n",
    "        # Loop over all batches\n",
    "        n_batches = 5\n",
    "        for batch_i in range(1, n_batches + 1):\n",
    "            for batch_features, batch_labels in helper.load_preprocess_training_batch(batch_i, batch_size):\n",
    "                train_neural_network(sess, optimizer, keep_probability, batch_features, batch_labels)\n",
    "            print('Epoch {:>2}, CIFAR-10 Batch {}:  '.format(epoch + 1, batch_i), end='')\n",
    "            print_stats(sess, batch_features, batch_labels, cost, accuracy)\n",
    "            \n",
    "    # Save Model\n",
    "    saver = tf.train.Saver()\n",
    "    save_path = saver.save(sess, save_model_path)"
   ]
  },
  {
   "cell_type": "markdown",
   "metadata": {},
   "source": [
    "# Checkpoint\n",
    "The model has been saved to disk.\n",
    "## Test Model\n",
    "Test your model against the test dataset.  This will be your final accuracy. You should have an accuracy greater than 50%. If you don't, keep tweaking the model architecture and parameters."
   ]
  },
  {
   "cell_type": "code",
   "execution_count": 24,
   "metadata": {},
   "outputs": [
    {
     "name": "stdout",
     "output_type": "stream",
     "text": [
      "INFO:tensorflow:Restoring parameters from ./image_classification\n",
      "Testing Accuracy: 0.66533203125\n",
      "\n"
     ]
    },
    {
     "data": {
      "image/png": "[encoded data removed]",
      "text/plain": [
       "<matplotlib.figure.Figure at 0x113c8dbe0>"
      ]
     },
     "metadata": {
      "image/png": {
       "height": 319,
       "width": 355
      }
     },
     "output_type": "display_data"
    }
   ],
   "source": [
    "\"\"\"\n",
    "DON'T MODIFY ANYTHING IN THIS CELL\n",
    "\"\"\"\n",
    "%matplotlib inline\n",
    "%config InlineBackend.figure_format = 'retina'\n",
    "\n",
    "import tensorflow as tf\n",
    "import pickle\n",
    "import helper\n",
    "import random\n",
    "\n",
    "# Set batch size if not already set\n",
    "try:\n",
    "    if batch_size:\n",
    "        pass\n",
    "except NameError:\n",
    "    batch_size = 64\n",
    "\n",
    "save_model_path = './image_classification'\n",
    "n_samples = 4\n",
    "top_n_predictions = 3\n",
    "\n",
    "def test_model():\n",
    "    \"\"\"\n",
    "    Test the saved model against the test dataset\n",
    "    \"\"\"\n",
    "\n",
    "    test_features, test_labels = pickle.load(open('preprocess_test.p', mode='rb'))\n",
    "    loaded_graph = tf.Graph()\n",
    "\n",
    "    with tf.Session(graph=loaded_graph) as sess:\n",
    "        # Load model\n",
    "        loader = tf.train.import_meta_graph(save_model_path + '.meta')\n",
    "        loader.restore(sess, save_model_path)\n",
    "\n",
    "        # Get Tensors from loaded model\n",
    "        loaded_x = loaded_graph.get_tensor_by_name('x:0')\n",
    "        loaded_y = loaded_graph.get_tensor_by_name('y:0')\n",
    "        loaded_keep_prob = loaded_graph.get_tensor_by_name('keep_prob:0')\n",
    "        loaded_logits = loaded_graph.get_tensor_by_name('logits:0')\n",
    "        loaded_acc = loaded_graph.get_tensor_by_name('accuracy:0')\n",
    "        \n",
    "        # Get accuracy in batches for memory limitations\n",
    "        test_batch_acc_total = 0\n",
    "        test_batch_count = 0\n",
    "        \n",
    "        for test_feature_batch, test_label_batch in helper.batch_features_labels(test_features, test_labels, batch_size):\n",
    "            test_batch_acc_total += sess.run(\n",
    "                loaded_acc,\n",
    "                feed_dict={loaded_x: test_feature_batch, loaded_y: test_label_batch, loaded_keep_prob: 1.0})\n",
    "            test_batch_count += 1\n",
    "\n",
    "        print('Testing Accuracy: {}\\n'.format(test_batch_acc_total/test_batch_count))\n",
    "\n",
    "        # Print Random Samples\n",
    "        random_test_features, random_test_labels = tuple(zip(*random.sample(list(zip(test_features, test_labels)), n_samples)))\n",
    "        random_test_predictions = sess.run(\n",
    "            tf.nn.top_k(tf.nn.softmax(loaded_logits), top_n_predictions),\n",
    "            feed_dict={loaded_x: random_test_features, loaded_y: random_test_labels, loaded_keep_prob: 1.0})\n",
    "        helper.display_image_predictions(random_test_features, random_test_labels, random_test_predictions)\n",
    "\n",
    "\n",
    "test_model()"
   ]
  },
  {
   "cell_type": "markdown",
   "metadata": {},
   "source": [
    "## Why 50-80% Accuracy?\n",
    "You might be wondering why you can't get an accuracy any higher. First things first, 50% isn't bad for a simple CNN.  Pure guessing would get you 10% accuracy. However, you might notice people are getting scores [well above 80%](http://rodrigob.github.io/are_we_there_yet/build/classification_datasets_results.html#43494641522d3130).  That's because we haven't taught you all there is to know about neural networks. We still need to cover a few more techniques.\n",
    "## Submitting This Project\n",
    "When submitting this project, make sure to run all the cells before saving the notebook.  Save the notebook file as \"dlnd_image_classification.ipynb\" and save it as a HTML file under \"File\" -> \"Download as\".  Include the \"helper.py\" and \"problem_unittests.py\" files in your submission."
   ]
  }
 ],
 "metadata": {
  "kernelspec": {
   "display_name": "Python 3",
   "language": "python",
   "name": "python3"
  },
  "language_info": {
   "codemirror_mode": {
    "name": "ipython",
    "version": 3
   },
   "file_extension": ".py",
   "mimetype": "text/x-python",
   "name": "python",
   "nbconvert_exporter": "python",
   "pygments_lexer": "ipython3",
   "version": "3.6.1"
  }
 },
 "nbformat": 4,
 "nbformat_minor": 1
}
